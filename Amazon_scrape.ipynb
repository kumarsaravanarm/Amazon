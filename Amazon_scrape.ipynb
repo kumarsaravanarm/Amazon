{
  "nbformat": 4,
  "nbformat_minor": 0,
  "metadata": {
    "colab": {
      "name": "Amazon_scrape.ipynb",
      "provenance": [],
      "collapsed_sections": [],
      "authorship_tag": "ABX9TyMZUSjJUSBTawcTbnv2/qX8",
      "include_colab_link": true
    },
    "kernelspec": {
      "name": "python3",
      "display_name": "Python 3"
    },
    "language_info": {
      "name": "python"
    }
  },
  "cells": [
    {
      "cell_type": "markdown",
      "metadata": {
        "id": "view-in-github",
        "colab_type": "text"
      },
      "source": [
        "<a href=\"https://colab.research.google.com/github/SaravanaKumarRM/Amazon_Scrape/blob/main/Amazon_scrape.ipynb\" target=\"_parent\"><img src=\"https://colab.research.google.com/assets/colab-badge.svg\" alt=\"Open In Colab\"/></a>"
      ]
    },
    {
      "cell_type": "code",
      "execution_count": null,
      "metadata": {
        "id": "DY7mg1qDdJgP"
      },
      "outputs": [],
      "source": [
        "!pip install selenium"
      ]
    },
    {
      "cell_type": "code",
      "source": [
        "!pip install pandas"
      ],
      "metadata": {
        "id": "vefOWCZ6dRGw"
      },
      "execution_count": null,
      "outputs": []
    },
    {
      "cell_type": "code",
      "source": [
        "!apt install chromium-chromedriver xvfb > /dev/null"
      ],
      "metadata": {
        "id": "JpbL458ndm_G"
      },
      "execution_count": null,
      "outputs": []
    },
    {
      "cell_type": "code",
      "source": [
        "from selenium import webdriver\n",
        "from selenium.webdriver.common.by import By\n",
        "from selenium.webdriver.common.keys import Keys\n",
        "from selenium.webdriver.support.ui import WebDriverWait\n",
        "from selenium.common.exceptions import NoSuchElementException\n",
        "import pandas as pd\n",
        "\n",
        "import time"
      ],
      "metadata": {
        "id": "sVksrFCIdp62"
      },
      "execution_count": 4,
      "outputs": []
    },
    {
      "cell_type": "code",
      "source": [
        "opt = webdriver.ChromeOptions()\n",
        "opt.add_argument('--headless')\n",
        "opt.add_argument('--no-sandbox')\n",
        "opt.add_argument('--disable-dev-shm-usage')\n",
        "driver = webdriver.Chrome('chromedriver',options=opt)"
      ],
      "metadata": {
        "id": "kVnhZq6CdzTu"
      },
      "execution_count": 5,
      "outputs": []
    },
    {
      "cell_type": "code",
      "source": [
        "df = pd.read_csv('Amazon_Scraping_Sheet1.csv')\n",
        "asins = df[\"Asin\"]\n",
        "countries = df[\"country\"]\n",
        "Product_list = []\n",
        "web_404 = []"
      ],
      "metadata": {
        "id": "ZNzpwIrnd1_-"
      },
      "execution_count": 6,
      "outputs": []
    },
    {
      "cell_type": "code",
      "source": [
        "class Amazon:\n",
        "\n",
        "    def title(self):\n",
        "        product_title = driver.find_element(By.ID,\"productTitle\").text\n",
        "        return product_title\n",
        "    def price(self):\n",
        "        try:\n",
        "            product_price = driver.find_element(By.XPATH,\".//span[@class='a-color-base']\").text\n",
        "        except NoSuchElementException:\n",
        "            product_price = driver.find_element(By.XPATH,\"/html/body/div[2]/div[2]/div[5]/div[4]/div[4]/div[11]/div[1]/div[1]/span[1]/span[2]\").text\n",
        "        except Exception as e:\n",
        "            print(e)\n",
        "        return product_price\n",
        "    def image(self):\n",
        "        image_container = driver.find_element(By.ID,\"main-image-container\")\n",
        "        product_img = image_container.find_element(By.TAG_NAME,\"img\").get_attribute(\"src\")\n",
        "        return product_img\n",
        "    def details(self):\n",
        "        try:\n",
        "            product_details = driver.find_element(By.ID,\"detailBullets_feature_div\").text\n",
        "        except NoSuchElementException:\n",
        "            product_details = driver.find_element(By.ID,\"productDetails_techSpec_section_1\").text\n",
        "        except Exception as e:\n",
        "            print(e)\n",
        "        return product_details"
      ],
      "metadata": {
        "id": "XCmHqT8Zd9ll"
      },
      "execution_count": 7,
      "outputs": []
    },
    {
      "cell_type": "code",
      "source": [
        "for country,asin in zip(countries,asins):\n",
        "    try:\n",
        "        web = f'https://www.amazon.{country}/dp/{asin}'\n",
        "        # web = 'https://www.amazon.de/dp/000420736X'\n",
        "        driver.get(web)\n",
        "        website = Amazon()\n",
        "\n",
        "        Product = {\"Web_pageurl\":web,\"Product_Title\":website.title(),\"Product_price\":website.price(),\"Product_imagelink\":website.image(),\"Product_Details\":website.details()}\n",
        "        Product_list.append(Product)\n",
        "        print(Product_list)\n",
        "\n",
        "    except:\n",
        "        web_404.append(web)\n",
        "        print(f\"The {web} is not avaliable\")"
      ],
      "metadata": {
        "id": "XEDfVA8meBTO"
      },
      "execution_count": null,
      "outputs": []
    },
    {
      "cell_type": "code",
      "source": [
        "file_json = pd.DataFrame(Product_list)\n",
        "file_json.to_json(\"Amazon_scrape.json\")\n",
        "\n",
        "file_csv = pd.DataFrame(Product_list)\n",
        "file_csv.to_csv(\"Amazon_scrape.csv\",encoding='utf-8',index=False)\n",
        "\n",
        "file_404 = pd.DataFrame(web_404)\n",
        "file_404.to_csv(\"web_404.csv\",encoding='utf-8',index=False)\n",
        "\n",
        "driver.implicitly_wait(10)\n",
        "driver.quit()"
      ],
      "metadata": {
        "id": "Axw0CuuueG32"
      },
      "execution_count": 9,
      "outputs": []
    },
    {
      "cell_type": "markdown",
      "source": [
        ""
      ],
      "metadata": {
        "id": "x71GHvTzgtwP"
      }
    }
  ]
}